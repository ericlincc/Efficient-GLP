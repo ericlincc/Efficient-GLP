{
 "cells": [
  {
   "cell_type": "code",
   "execution_count": 6,
   "id": "cf2e57e9",
   "metadata": {},
   "outputs": [
    {
     "name": "stdout",
     "output_type": "stream",
     "text": [
      "1\n",
      "2\n"
     ]
    }
   ],
   "source": [
    "i = 1\n",
    "while !(i == 3)\n",
    "    println(i)\n",
    "    i += 1\n",
    "end"
   ]
  },
  {
   "cell_type": "code",
   "execution_count": 38,
   "id": "8efe9257",
   "metadata": {},
   "outputs": [
    {
     "ename": "LoadError",
     "evalue": "invalid redefinition of constant Results",
     "output_type": "error",
     "traceback": [
      "invalid redefinition of constant Results",
      "",
      "Stacktrace:",
      " [1] top-level scope",
      "   @ In[38]:1",
      " [2] eval",
      "   @ ./boot.jl:360 [inlined]",
      " [3] include_string(mapexpr::typeof(REPL.softscope), mod::Module, code::String, filename::String)",
      "   @ Base ./loading.jl:1116"
     ]
    }
   ],
   "source": [
    "struct Results\n",
    "    iterations::Vector\n",
    "    times::Vector\n",
    "    measures::Vector\n",
    "    \n",
    "    function Results()\n",
    "        new(Array{Int}([]), Array{Float64}([]), Array{Float64}([]))\n",
    "    end\n",
    "end\n",
    "\n",
    "function logresults!(r::Results, currentiter, elapsedtime, measure)\n",
    "    push!(r.iterations, currentiter)\n",
    "    push!(r.times, elapsedtime)\n",
    "    push!(r.measures, measure)\n",
    "    return\n",
    "end\n",
    "\n",
    "r = Results()"
   ]
  },
  {
   "cell_type": "code",
   "execution_count": 5,
   "id": "6c65c93f",
   "metadata": {},
   "outputs": [
    {
     "data": {
      "text/plain": [
       "checkexitcondition (generic function with 1 method)"
      ]
     },
     "execution_count": 5,
     "metadata": {},
     "output_type": "execute_result"
    }
   ],
   "source": [
    "struct StandardLinearProgram_\n",
    "    A_T::SparseMatrixCSC\n",
    "    b::Vector\n",
    "    c::Vector\n",
    "    prox\n",
    "\n",
    "    function StandardLinearProgram_(A_T::SparseMatrixCSC, b::Vector, c::Vector)\n",
    "        prox(x, τ) = max.(x, 0.0)\n",
    "        new(A_T, b, c, prox)\n",
    "    end\n",
    "end\n",
    "\n",
    "struct ExitCriterion\n",
    "    maxiter::Int              # Max #iterations allowed\n",
    "    maxtime::Float64          # Max execution time allowed\n",
    "    targetaccuracy::Float64   # Target accuracy to halt algorithm\n",
    "    loggingfreg::Int          # #iterations interval between logging\n",
    "end\n",
    "\n",
    "\n",
    "#     ExitCriterion(maxiter::Integer, maxtime:Float64)\n",
    "\n",
    "\n",
    "# A function determine if it's time to halt execution\n",
    "function checkexitcondition(\n",
    "    exitcriterion::ExitCriterion,\n",
    "    currentiter::Integer,\n",
    "    elapsedtime,\n",
    "    measure,\n",
    ")::Bool\n",
    "\n",
    "    if currentiter >= exitcriterion.maxiter\n",
    "        return true\n",
    "    elseif elapsedtime >= exitcriterion.maxtime\n",
    "        return true\n",
    "    elseif measure <= exitcriterion.targetaccuracy\n",
    "        return true\n",
    "    end\n",
    "\n",
    "    false\n",
    "end\n",
    "    \n",
    "        \n"
   ]
  },
  {
   "cell_type": "code",
   "execution_count": 15,
   "id": "666ce9e8",
   "metadata": {},
   "outputs": [
    {
     "data": {
      "text/plain": [
       "true"
      ]
     },
     "execution_count": 15,
     "metadata": {},
     "output_type": "execute_result"
    }
   ],
   "source": [
    "ec = ExitCriterion(10, 20, 0.1, 2)\n",
    "checkexitcondition(ec, 9, 10., 0.1)"
   ]
  },
  {
   "cell_type": "code",
   "execution_count": 10,
   "id": "0b7bdd0f",
   "metadata": {
    "scrolled": true
   },
   "outputs": [
    {
     "data": {
      "text/plain": [
       "StandardLinearProgram_(\n",
       "⠱⣄⠀⠀⠀⠀⠀⠀⠀⠀⠀⠀⠳⣄⠀⠀⠀⠀⠀⠀⠀⠀⠀⠀⠳⣄⠀⠀⠀⠀⠀⠀⠀⠀⠀⠀⠀⠀\n",
       "⠀⠈⠳⣄⠀⠀⠀⠀⠀⠀⠀⠀⠀⠈⠳⣄⠀⠀⠀⠀⠀⠀⠀⠀⠀⠈⠳⣄⠀⠀⠀⠀⠀⠀⠀⠀⠀⠀\n",
       "⠀⠀⠀⠈⠳⣄⠀⠀⠀⠀⠀⠀⠀⠀⠀⠈⠳⣄⠀⠀⠀⠀⠀⠀⠀⠀⠀⠈⠳⣄⠀⠀⠀⠀⠀⠀⠀⠀\n",
       "⠀⠀⠀⠀⠀⠈⠳⣄⠀⠀⠀⠀⠀⠀⠀⠀⠀⠈⠳⣄⠀⠀⠀⠀⠀⠀⠀⠀⠀⠈⠳⣄⠀⠀⠀⠀⠀⠀\n",
       "⠀⠀⠀⠀⠀⠀⠀⠈⠳⣄⠀⠀⠀⠀⠀⠀⠀⠀⠀⠈⠳⣄⠀⠀⠀⠀⠀⠀⠀⠀⠀⠈⠳⣄⠀⠀⠀⠀\n",
       "⠀⠀⠀⠀⠀⠀⠀⠀⠀⠈⠳⣄⠀⠀⠀⠀⠀⠀⠀⠀⠀⠈⠳⣄⠀⠀⠀⠀⠀⠀⠀⠀⠀⠈⠳⣄⠀⠀\n",
       "⠙⢦⡀⠀⠀⠀⠀⠀⠀⠀⠀⠈⠁⠀⠀⠀⠀⠀⠀⠀⠀⠀⠀⠈⠳⣄⠀⠀⠀⠀⠀⠀⠀⠀⠀⠈⠀⠀\n",
       "⠀⠀⠙⢦⡀⠀⠀⠀⠀⠀⠀⠀⠀⠀⠀⠀⠀⠀⠀⠀⠀⠀⠀⠀⠀⠈⠳⣄⠀⠀⠀⠀⠀⠀⠀⠀⠀⠀\n",
       "⠀⠀⠀⠀⠙⢦⡀⠀⠀⠀⠀⠀⠀⠀⠀⠀⠀⠀⠀⠀⠀⠀⠀⠀⠀⠀⠀⠈⠳⣄⠀⠀⠀⠀⠀⠀⠀⠀\n",
       "⠀⠀⠀⠀⠀⠀⠙⢆⡀⠀⠀⠀⠀⠀⠀⠀⠀⠀⠀⠀⠀⠀⠀⠀⠀⠀⠀⠀⠀⠈⠳⣄⠀⠀⠀⠀⠀⠀\n",
       "⠀⠀⠀⠀⠀⠀⠀⠀⠑⣄⠀⠀⠀⠀⠀⠀⠀⠀⠀⠀⠀⠀⠀⠀⠀⠀⠀⠀⠀⠀⠀⠈⠳⣄⠀⠀⠀⠀\n",
       "⠀⠀⠀⠀⠀⠀⠀⠀⠀⠈⠳⣄⠀⠀⠀⠀⠀⠀⠀⠀⠀⠀⠀⠀⠀⠀⠀⠀⠀⠀⠀⠀⠀⠈⠳⣄⠀⠀\n",
       "⠀⠀⠀⠀⠀⠀⠀⠀⠀⠀⠀⠈⠳⣄⠀⠀⠀⠀⠀⠀⠀⠀⠀⠀⠳⣄⠀⠀⠀⠀⠀⠀⠀⠀⠀⠈⠀⠀\n",
       "⠀⠀⠀⠀⠀⠀⠀⠀⠀⠀⠀⠀⠀⠈⠳⣄⠀⠀⠀⠀⠀⠀⠀⠀⠀⠈⠳⣄⠀⠀⠀⠀⠀⠀⠀⠀⠀⠀\n",
       "⠀⠀⠀⠀⠀⠀⠀⠀⠀⠀⠀⠀⠀⠀⠀⠈⠳⣄⠀⠀⠀⠀⠀⠀⠀⠀⠀⠈⠳⣄⠀⠀⠀⠀⠀⠀⠀⠀\n",
       "⠀⠀⠀⠀⠀⠀⠀⠀⠀⠀⠀⠀⠀⠀⠀⠀⠀⠈⠳⣄⠀⠀⠀⠀⠀⠀⠀⠀⠀⠈⠳⣄⠀⠀⠀⠀⠀⠀\n",
       "⠀⠀⠀⠀⠀⠀⠀⠀⠀⠀⠀⠀⠀⠀⠀⠀⠀⠀⠀⠈⠳⣄⠀⠀⠀⠀⠀⠀⠀⠀⠀⠈⠳⣄⠀⠀⠀⠀\n",
       "⠀⠀⠀⠀⠀⠀⠀⠀⠀⠀⠀⠀⠀⠀⠀⠀⠀⠀⠀⠀⠀⠈⠳⣄⠀⠀⠀⠀⠀⠀⠀⠀⠀⠈⠳⣄⠀⠀\n",
       "⠀⠀⠀⠀⠀⠀⠀⠀⠀⠀⠀⠀⠀⠀⠀⠀⠀⠀⠀⠀⠀⠀⠀⠈⠳⣄⠀⠀⠀⠀⠀⠀⠀⠀⠀⠈⠀⠀\n",
       "⠀⠀⠀⠀⠀⠀⠀⠀⠀⠀⠀⠀⠀⠀⠀⠀⠀⠀⠀⠀⠀⠀⠀⠀⠀⠈⠳⣄⠀⠀⠀⠀⠀⠀⠀⠀⠀⠀\n",
       "⠀⠀⠀⠀⠀⠀⠀⠀⠀⠀⠀⠀⠀⠀⠀⠀⠀⠀⠀⠀⠀⠀⠀⠀⠀⠀⠀⠈⠳⣄⠀⠀⠀⠀⠀⠀⠀⠀\n",
       "⠀⠀⠀⠀⠀⠀⠀⠀⠀⠀⠀⠀⠀⠀⠀⠀⠀⠀⠀⠀⠀⠀⠀⠀⠀⠀⠀⠀⠀⠈⠳⣄⠀⠀⠀⠀⠀⠀\n",
       "⠀⠀⠀⠀⠀⠀⠀⠀⠀⠀⠀⠀⠀⠀⠀⠀⠀⠀⠀⠀⠀⠀⠀⠀⠀⠀⠀⠀⠀⠀⠀⠈⠳⣄⠀⠀⠀⠀\n",
       "⠀⠀⠀⠀⠀⠀⠀⠀⠀⠀⠀⠀⠀⠀⠀⠀⠀⠀⠀⠀⠀⠀⠀⠀⠀⠀⠀⠀⠀⠀⠀⠀⠀⠈⠳⣄⠀⠀\n",
       "⠀⠀⠀⠀⠀⠀⠀⠀⠀⠀⠀⠀⣿⣿⣿⣿⣿⣿⣿⣿⣿⣿⣿⣿⡇⠀⠀⠀⠀⠀⠀⠀⠀⠀⠀⢸⣿⣗\n",
       "⣀⣀⣀⣀⣀⣀⣀⣀⣀⣀⣀⣀⡀⠀⠀⠀⠀⠀⠀⠀⠀⠀⠀⠀⠀⠀⠀⠀⠀⠀⠀⠀⠀⠀⠀⢀⣙⣦, [0.0, 0.0, 0.0, 0.0, 0.0, 0.0, 0.0, 0.0, 0.0, 0.0  …  0.0, 0.0, 0.0, 0.0, 0.0, 0.0, 0.0, 0.0, 0.0, 0.0], [0.0006230529595015577, 0.0006230529595015577, 0.0006230529595015577, 0.0006230529595015577, 0.0006230529595015577, 0.0006230529595015577, 0.0006230529595015577, 0.0006230529595015577, 0.0006230529595015577, 0.0006230529595015577  …  0.0, 0.0, 0.0, 0.0, 0.0, 0.0, 0.0, 0.0, 0.1, -0.1], var\"#prox#7\"())"
      ]
     },
     "execution_count": 10,
     "metadata": {},
     "output_type": "execute_result"
    }
   ],
   "source": [
    "lp_dro = StandardLinearProgram_(A_T, b, c)\n"
   ]
  },
  {
   "cell_type": "code",
   "execution_count": 12,
   "id": "720cbe6e",
   "metadata": {},
   "outputs": [
    {
     "data": {
      "text/plain": [
       "var\"#prox#7\""
      ]
     },
     "execution_count": 12,
     "metadata": {},
     "output_type": "execute_result"
    }
   ],
   "source": [
    "typeof(lp_dro.prox)"
   ]
  },
  {
   "cell_type": "code",
   "execution_count": 1,
   "id": "b52e7a11",
   "metadata": {},
   "outputs": [
    {
     "data": {
      "text/plain": [
       "droreformuation_wmetric_hinge_standardformnormalized (generic function with 1 method)"
      ]
     },
     "execution_count": 1,
     "metadata": {},
     "output_type": "execute_result"
    }
   ],
   "source": [
    "using SparseArrays\n",
    "using LinearAlgebra\n",
    "\n",
    "\n",
    "include(\"src/algorithms/iclr_lazy.jl\")\n",
    "include(\"src/problems/dro/utils/libsvm_parser.jl\")\n",
    "include(\"src/problems/dro/wasserstein.jl\")"
   ]
  },
  {
   "cell_type": "code",
   "execution_count": 2,
   "id": "42cb22bc",
   "metadata": {
    "scrolled": true
   },
   "outputs": [
    {
     "data": {
      "text/plain": [
       "(\n",
       "⠱⣄⠀⠀⠀⠀⠀⠀⠀⠀⠀⠀⠳⣄⠀⠀⠀⠀⠀⠀⠀⠀⠀⠀⠳⣄⠀⠀⠀⠀⠀⠀⠀⠀⠀⠀⠀⠀\n",
       "⠀⠈⠳⣄⠀⠀⠀⠀⠀⠀⠀⠀⠀⠈⠳⣄⠀⠀⠀⠀⠀⠀⠀⠀⠀⠈⠳⣄⠀⠀⠀⠀⠀⠀⠀⠀⠀⠀\n",
       "⠀⠀⠀⠈⠳⣄⠀⠀⠀⠀⠀⠀⠀⠀⠀⠈⠳⣄⠀⠀⠀⠀⠀⠀⠀⠀⠀⠈⠳⣄⠀⠀⠀⠀⠀⠀⠀⠀\n",
       "⠀⠀⠀⠀⠀⠈⠳⣄⠀⠀⠀⠀⠀⠀⠀⠀⠀⠈⠳⣄⠀⠀⠀⠀⠀⠀⠀⠀⠀⠈⠳⣄⠀⠀⠀⠀⠀⠀\n",
       "⠀⠀⠀⠀⠀⠀⠀⠈⠳⣄⠀⠀⠀⠀⠀⠀⠀⠀⠀⠈⠳⣄⠀⠀⠀⠀⠀⠀⠀⠀⠀⠈⠳⣄⠀⠀⠀⠀\n",
       "⠀⠀⠀⠀⠀⠀⠀⠀⠀⠈⠳⣄⠀⠀⠀⠀⠀⠀⠀⠀⠀⠈⠳⣄⠀⠀⠀⠀⠀⠀⠀⠀⠀⠈⠳⣄⠀⠀\n",
       "⠙⢦⡀⠀⠀⠀⠀⠀⠀⠀⠀⠈⠁⠀⠀⠀⠀⠀⠀⠀⠀⠀⠀⠈⠳⣄⠀⠀⠀⠀⠀⠀⠀⠀⠀⠈⠀⠀\n",
       "⠀⠀⠙⢦⡀⠀⠀⠀⠀⠀⠀⠀⠀⠀⠀⠀⠀⠀⠀⠀⠀⠀⠀⠀⠀⠈⠳⣄⠀⠀⠀⠀⠀⠀⠀⠀⠀⠀\n",
       "⠀⠀⠀⠀⠙⢦⡀⠀⠀⠀⠀⠀⠀⠀⠀⠀⠀⠀⠀⠀⠀⠀⠀⠀⠀⠀⠀⠈⠳⣄⠀⠀⠀⠀⠀⠀⠀⠀\n",
       "⠀⠀⠀⠀⠀⠀⠙⢆⡀⠀⠀⠀⠀⠀⠀⠀⠀⠀⠀⠀⠀⠀⠀⠀⠀⠀⠀⠀⠀⠈⠳⣄⠀⠀⠀⠀⠀⠀\n",
       "⠀⠀⠀⠀⠀⠀⠀⠀⠑⣄⠀⠀⠀⠀⠀⠀⠀⠀⠀⠀⠀⠀⠀⠀⠀⠀⠀⠀⠀⠀⠀⠈⠳⣄⠀⠀⠀⠀\n",
       "⠀⠀⠀⠀⠀⠀⠀⠀⠀⠈⠳⣄⠀⠀⠀⠀⠀⠀⠀⠀⠀⠀⠀⠀⠀⠀⠀⠀⠀⠀⠀⠀⠀⠈⠳⣄⠀⠀\n",
       "⠀⠀⠀⠀⠀⠀⠀⠀⠀⠀⠀⠈⠳⣄⠀⠀⠀⠀⠀⠀⠀⠀⠀⠀⠳⣄⠀⠀⠀⠀⠀⠀⠀⠀⠀⠈⠀⠀\n",
       "⠀⠀⠀⠀⠀⠀⠀⠀⠀⠀⠀⠀⠀⠈⠳⣄⠀⠀⠀⠀⠀⠀⠀⠀⠀⠈⠳⣄⠀⠀⠀⠀⠀⠀⠀⠀⠀⠀\n",
       "⠀⠀⠀⠀⠀⠀⠀⠀⠀⠀⠀⠀⠀⠀⠀⠈⠳⣄⠀⠀⠀⠀⠀⠀⠀⠀⠀⠈⠳⣄⠀⠀⠀⠀⠀⠀⠀⠀\n",
       "⠀⠀⠀⠀⠀⠀⠀⠀⠀⠀⠀⠀⠀⠀⠀⠀⠀⠈⠳⣄⠀⠀⠀⠀⠀⠀⠀⠀⠀⠈⠳⣄⠀⠀⠀⠀⠀⠀\n",
       "⠀⠀⠀⠀⠀⠀⠀⠀⠀⠀⠀⠀⠀⠀⠀⠀⠀⠀⠀⠈⠳⣄⠀⠀⠀⠀⠀⠀⠀⠀⠀⠈⠳⣄⠀⠀⠀⠀\n",
       "⠀⠀⠀⠀⠀⠀⠀⠀⠀⠀⠀⠀⠀⠀⠀⠀⠀⠀⠀⠀⠀⠈⠳⣄⠀⠀⠀⠀⠀⠀⠀⠀⠀⠈⠳⣄⠀⠀\n",
       "⠀⠀⠀⠀⠀⠀⠀⠀⠀⠀⠀⠀⠀⠀⠀⠀⠀⠀⠀⠀⠀⠀⠀⠈⠳⣄⠀⠀⠀⠀⠀⠀⠀⠀⠀⠈⠀⠀\n",
       "⠀⠀⠀⠀⠀⠀⠀⠀⠀⠀⠀⠀⠀⠀⠀⠀⠀⠀⠀⠀⠀⠀⠀⠀⠀⠈⠳⣄⠀⠀⠀⠀⠀⠀⠀⠀⠀⠀\n",
       "⠀⠀⠀⠀⠀⠀⠀⠀⠀⠀⠀⠀⠀⠀⠀⠀⠀⠀⠀⠀⠀⠀⠀⠀⠀⠀⠀⠈⠳⣄⠀⠀⠀⠀⠀⠀⠀⠀\n",
       "⠀⠀⠀⠀⠀⠀⠀⠀⠀⠀⠀⠀⠀⠀⠀⠀⠀⠀⠀⠀⠀⠀⠀⠀⠀⠀⠀⠀⠀⠈⠳⣄⠀⠀⠀⠀⠀⠀\n",
       "⠀⠀⠀⠀⠀⠀⠀⠀⠀⠀⠀⠀⠀⠀⠀⠀⠀⠀⠀⠀⠀⠀⠀⠀⠀⠀⠀⠀⠀⠀⠀⠈⠳⣄⠀⠀⠀⠀\n",
       "⠀⠀⠀⠀⠀⠀⠀⠀⠀⠀⠀⠀⠀⠀⠀⠀⠀⠀⠀⠀⠀⠀⠀⠀⠀⠀⠀⠀⠀⠀⠀⠀⠀⠈⠳⣄⠀⠀\n",
       "⠀⠀⠀⠀⠀⠀⠀⠀⠀⠀⠀⠀⣿⣿⣿⣿⣿⣿⣿⣿⣿⣿⣿⣿⡇⠀⠀⠀⠀⠀⠀⠀⠀⠀⠀⢸⣿⣗\n",
       "⣀⣀⣀⣀⣀⣀⣀⣀⣀⣀⣀⣀⡀⠀⠀⠀⠀⠀⠀⠀⠀⠀⠀⠀⠀⠀⠀⠀⠀⠀⠀⠀⠀⠀⠀⢀⣙⣦, [0.0, 0.0, 0.0, 0.0, 0.0, 0.0, 0.0, 0.0, 0.0, 0.0  …  0.0, 0.0, 0.0, 0.0, 0.0, 0.0, 0.0, 0.0, 0.0, 0.0], [0.0006230529595015577, 0.0006230529595015577, 0.0006230529595015577, 0.0006230529595015577, 0.0006230529595015577, 0.0006230529595015577, 0.0006230529595015577, 0.0006230529595015577, 0.0006230529595015577, 0.0006230529595015577  …  0.0, 0.0, 0.0, 0.0, 0.0, 0.0, 0.0, 0.0, 0.1, -0.1])"
      ]
     },
     "execution_count": 2,
     "metadata": {},
     "output_type": "execute_result"
    }
   ],
   "source": [
    "yX_T = read_libsvm_into_yXT_sparse(\"a1a.txt\", 123, 1605)\n",
    "A_T, b, c = droreformuation_wmetric_hinge_standardformnormalized(yX_T, 0.1, 0.1)"
   ]
  },
  {
   "cell_type": "code",
   "execution_count": 4,
   "id": "805231bf",
   "metadata": {},
   "outputs": [
    {
     "data": {
      "text/plain": [
       "test_iclr_lazy (generic function with 1 method)"
      ]
     },
     "execution_count": 4,
     "metadata": {},
     "output_type": "execute_result"
    }
   ],
   "source": [
    "# the problem to optimize\n",
    "#  \\min_{\\vx\\in\\gX\\subset\\sR^d} \\max_{\\vy\\in\\sR^n} \\Big\\{ L(\\vx,\\vy) = \\vc^T\\vx + r(\\vx)   + \\vy^T\\mA\\vx   - \\vy^T\\vb\\Big\\}.\n",
    "# op_X_r: (I + tau_n ∂G)^{-1}\n",
    "# γ: strong convexity\n",
    "# σ, τ, θ: sequence for update\n",
    "# L: Lipschitz constant\n",
    "# to be consistent with the sparse column format, we consider\n",
    "# A_T: R^{d×n}\n",
    "\n",
    "function test_iclr_lazy(A_T::SparseMatrixCSC{Float64, Int}, b::Vector{Float64}, c::Vector{Float64})\n",
    "\n",
    "    d, n = size(A_T)\n",
    "#     A_T = (randn(d, n) +  ones(d, n)) /√n\n",
    "#     A_T = sparse(A_T)\n",
    "#     # b = randn(n)\n",
    "#     x_star = ones(d)\n",
    "#     b = (x_star' * A_T)'\n",
    "\n",
    "#     c = ones(d)  # TOA_TO: Need to get from reformulation\n",
    "    R = 10\n",
    "    γ = 1\n",
    "    σ = 0.0\n",
    "    K = 100000\n",
    "    x0 = zeros(d)\n",
    "    y0 = zeros(n)\n",
    "    blocks = []\n",
    "    C = []\n",
    "    blocksize = 10  # block size\n",
    "    len_b = n / blocksize\n",
    "\n",
    "    for i = 1:len_b\n",
    "        push!(blocks, (1 + (i-1) * blocksize): (i * blocksize))\n",
    "        row_set = []\n",
    "        for j = 1:length(blocks[i])\n",
    "            row_set = union(row_set, rowvals(A_T[:, blocks[i][j]]))\n",
    "        end\n",
    "        push!(C, row_set)\n",
    "        # @info row_set\n",
    "    end\n",
    "    op_X_r(x, τ) = max.(x, 0.0)\n",
    "\n",
    "    # for i = 1:100\n",
    "    #     x0, y0 = iclr_lazy_restart_x_y(A_T, b, c, op_X_r, x0, y0, n, d, γ, σ, R, blocks, C, K * len_b)\n",
    "    # end\n",
    "\n",
    "    iclr_lazy(A_T, b, c, op_X_r, x0, y0, n, d, γ, σ, R, blocks, C, K * len_b)\n",
    "end\n"
   ]
  },
  {
   "cell_type": "code",
   "execution_count": 5,
   "id": "8f663723",
   "metadata": {},
   "outputs": [
    {
     "name": "stderr",
     "output_type": "stream",
     "text": [
      "┌ Info: k:10, ICLR constraint norm: 40.70763930385485\n",
      "└ @ Main /home/dro/workspace/Efficient-GLP/src/algorithms/iclr_lazy.jl:102\n",
      "┌ Info: k:100, ICLR constraint norm: 40.6149466407247\n",
      "└ @ Main /home/dro/workspace/Efficient-GLP/src/algorithms/iclr_lazy.jl:102\n",
      "┌ Info: k:1000, ICLR constraint norm: 40.16725321814517\n",
      "└ @ Main /home/dro/workspace/Efficient-GLP/src/algorithms/iclr_lazy.jl:102\n",
      "┌ Info: k:10000, ICLR constraint norm: 27.593658608264658\n",
      "└ @ Main /home/dro/workspace/Efficient-GLP/src/algorithms/iclr_lazy.jl:102\n"
     ]
    },
    {
     "ename": "LoadError",
     "evalue": "InterruptException:",
     "output_type": "error",
     "traceback": [
      "InterruptException:",
      "",
      "Stacktrace:",
      "  [1] macro expansion",
      "    @ ./multidimensional.jl:860 [inlined]",
      "  [2] macro expansion",
      "    @ ./cartesian.jl:64 [inlined]",
      "  [3] _unsafe_getindex!",
      "    @ ./multidimensional.jl:855 [inlined]",
      "  [4] _unsafe_getindex(#unused#::IndexLinear, A::Vector{Float64}, I::Vector{Any})",
      "    @ Base ./multidimensional.jl:846",
      "  [5] _getindex",
      "    @ ./multidimensional.jl:832 [inlined]",
      "  [6] getindex(A::Vector{Float64}, I::Vector{Any})",
      "    @ Base ./abstractarray.jl:1170",
      "  [7] iclr_lazy(D::SparseMatrixCSC{Float64, Int64}, b::Vector{Float64}, c::Vector{Float64}, op_X_r::var\"#op_X_r#6\", x0::Vector{Float64}, y0::Vector{Float64}, n::Int64, d::Int64, γ::Int64, σ::Float64, R::Int64, S::Vector{Any}, C::Vector{Any}, K::Int64)",
      "    @ Main ~/workspace/Efficient-GLP/src/algorithms/iclr_lazy.jl:91",
      "  [8] test_iclr_lazy(D::SparseMatrixCSC{Float64, Int64}, b::Vector{Float64}, c::Vector{Float64})",
      "    @ Main ./In[4]:45",
      "  [9] top-level scope",
      "    @ In[5]:1",
      " [10] eval",
      "    @ ./boot.jl:360 [inlined]",
      " [11] include_string(mapexpr::typeof(REPL.softscope), mod::Module, code::String, filename::String)",
      "    @ Base ./loading.jl:1116"
     ]
    }
   ],
   "source": [
    "test_iclr_lazy(A_T, b, c)"
   ]
  },
  {
   "cell_type": "code",
   "execution_count": 14,
   "id": "9f692ac8",
   "metadata": {},
   "outputs": [
    {
     "data": {
      "text/plain": [
       "9.298324584960938e-5"
      ]
     },
     "execution_count": 14,
     "metadata": {},
     "output_type": "execute_result"
    }
   ],
   "source": [
    "a = time()\n",
    "b = time()\n",
    "b - a"
   ]
  },
  {
   "cell_type": "code",
   "execution_count": 16,
   "id": "b0086f0d",
   "metadata": {},
   "outputs": [
    {
     "data": {
      "text/plain": [
       "1.63324530325283e9"
      ]
     },
     "execution_count": 16,
     "metadata": {},
     "output_type": "execute_result"
    }
   ],
   "source": [
    "time()"
   ]
  },
  {
   "cell_type": "code",
   "execution_count": null,
   "id": "f566ad60",
   "metadata": {},
   "outputs": [],
   "source": []
  }
 ],
 "metadata": {
  "kernelspec": {
   "display_name": "Julia 1.4.1",
   "language": "julia",
   "name": "julia-1.4"
  },
  "language_info": {
   "file_extension": ".jl",
   "mimetype": "application/julia",
   "name": "julia",
   "version": "1.6.3"
  }
 },
 "nbformat": 4,
 "nbformat_minor": 5
}
