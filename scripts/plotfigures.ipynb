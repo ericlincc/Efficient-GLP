{
 "cells": [
  {
   "cell_type": "code",
   "execution_count": null,
   "id": "d2a800fb",
   "metadata": {
    "scrolled": false
   },
   "outputs": [],
   "source": [
    "using Colors\n",
    "using SparseArrays\n",
    "using LinearAlgebra\n",
    "using CSV\n",
    "using Plots\n",
    "\n",
    "\n",
    "include(\"src/utils/helper.jl\")\n"
   ]
  },
  {
   "cell_type": "code",
   "execution_count": null,
   "id": "65b283bc",
   "metadata": {},
   "outputs": [],
   "source": [
    "results_0 = csv_to_results(\"/home/dro/workspace-eric/Efficient-GLP/run_results/a9a-clvr_lazy_restart_x_y-blocksize=1-R=1-2021-10-21_22-02-26-741.csv\")\n",
    "results_1 = csv_to_results(\"/home/dro/workspace-eric/Efficient-GLP/run_results/a9a-iclr_lazy_restart_x_y-2021-10-17_06-00-22-316.csv\")\n",
    "results_2 = csv_to_results(\"/home/dro/workspace-eric/Efficient-GLP/run_results/a9a-pdhg_restart_x_y-2021-10-17_21-29-41-438.csv\")\n",
    "results_3 = csv_to_results(\"/home/dro/workspace-eric/Efficient-GLP/run_results/a9a-spdhg_restart_x_y-2021-10-17_06-00-28-860.csv\")\n",
    "results_4 = csv_to_results(\"/home/dro/workspace-eric/Efficient-GLP/run_results/a9a-purecd_restart_x_y-2021-10-21_17-52-17-998.csv\")\n"
   ]
  },
  {
   "cell_type": "markdown",
   "id": "9ccabeb1",
   "metadata": {},
   "source": [
    "-----"
   ]
  },
  {
   "cell_type": "code",
   "execution_count": null,
   "id": "54b1e525",
   "metadata": {},
   "outputs": [],
   "source": [
    "DATASET_INFO = Dict([\n",
    "    (\"a1a\", (123, 1605)),\n",
    "    (\"a9a\", (123, 32561)),\n",
    "    (\"gisette\", (5000, 6000)),\n",
    "    (\"news20\", (1355191, 19996)),\n",
    "    (\"rcv1\", (47236, 20242)),\n",
    "])\n",
    "\n",
    "\n",
    "dataset = \"a9a\"\n",
    "d, n = DATASET_INFO[dataset]\n",
    "\n",
    "\n",
    "\n",
    "figuretitle = \"$(dataset) (n = $(n), d = $(d))\"\n",
    "\n",
    "\n",
    "savedir = \"./final_plots\"\n",
    "\n",
    "markerstep = 150\n",
    "\n",
    "xtickfontsize = 10\n",
    "ytickfontsize = 10\n",
    "xguidefontsize = 13\n",
    "yguidefontsize = 13\n",
    "legendfontsize = 12\n",
    "\n",
    "\n",
    "plotconfig = Dict(\n",
    "    :xtickfontsize => xtickfontsize,\n",
    "    :ytickfontsize => ytickfontsize,\n",
    "    :xguidefontsize => xguidefontsize,\n",
    "    :yguidefontsize => yguidefontsize,\n",
    "    :legendfontsize => legendfontsize,\n",
    "    :background_color_subplot => RGBA(1.0,1.0,1.0,0.9),\n",
    ")"
   ]
  },
  {
   "cell_type": "code",
   "execution_count": null,
   "id": "02acba9a",
   "metadata": {},
   "outputs": [],
   "source": [
    "println(results_0.times[end])\n",
    "println(results_1.times[end])\n",
    "println(results_2.times[end])\n",
    "println(results_3.times[end])\n",
    "println(results_4.times[end])"
   ]
  },
  {
   "cell_type": "code",
   "execution_count": null,
   "id": "63dadfbf",
   "metadata": {},
   "outputs": [],
   "source": [
    "function indice_stepvalue(x, step)\n",
    "    target = 0.\n",
    "    ret = Array{Int}([])\n",
    "    for (i, v) in enumerate(x)\n",
    "        if v >= target\n",
    "            push!(ret, i)\n",
    "            target += step\n",
    "        end\n",
    "    end\n",
    "    ret\n",
    "end\n",
    "\n",
    "@recipe function f(::Type{Val{:samplemarkers}}, x, y, z; step=10)\n",
    "    ind = indice_stepvalue(x, step)\n",
    "    n = length(ind)\n",
    "    sx, sy = x[ind], y[ind]\n",
    "    # add an empty series with the correct type for legend markers\n",
    "    @series begin\n",
    "        seriestype := :path\n",
    "        markershape --> :auto\n",
    "        x := []\n",
    "        y := []\n",
    "    end\n",
    "    # add a series for the line\n",
    "    @series begin\n",
    "        primary := false # no legend entry\n",
    "        markershape := :none # ensure no markers\n",
    "        seriestype := :path\n",
    "        seriescolor := get(plotattributes, :seriescolor, :auto)\n",
    "        x := x\n",
    "        y := y\n",
    "    end\n",
    "    # return  a series for the sampled markers\n",
    "    primary := false\n",
    "    seriestype := :scatter\n",
    "    markershape --> :auto\n",
    "    x := sx\n",
    "    y := sy\n",
    "end"
   ]
  },
  {
   "cell_type": "code",
   "execution_count": null,
   "id": "ec19315c",
   "metadata": {},
   "outputs": [],
   "source": [
    "# MetricLP vs Time\n",
    "\n",
    "plot(results_2.times, results_2.metricLPs, label=\"PDHG\",\n",
    "    st=:samplemarkers, step=markerstep, shape=:auto,  # Markers\n",
    "    yaxis=:log, color=\"black\", xlim=[0, 3000], \n",
    "    xlabel=\"Time (seconds)\", ylabel=\"LP Metric\", title=figuretitle,\n",
    "    ;plotconfig...\n",
    ")\n",
    "plot!(results_3.times, results_3.metricLPs, label=\"SPDHG (blocksize=50)\",\n",
    "    st=:samplemarkers, step=markerstep, shape=:auto,\n",
    "    color=\"green\",\n",
    ")\n",
    "plot!(results_4.times, results_4.metricLPs, label=\"PURE-CD (blocksize=1)\",\n",
    "    st=:samplemarkers, step=markerstep, shape=:auto,\n",
    "    color=\"orange\",\n",
    ")\n",
    "plot!(results_0.times, results_0.metricLPs, label=\"CLVR (blocksize=1)\",\n",
    "    st=:samplemarkers, step=markerstep, shape=:auto,\n",
    "    color=\"red\",\n",
    ")\n",
    "plot!(results_1.times, results_1.metricLPs, label=\"CLVR (blocksize=50)\",\n",
    "    st=:samplemarkers, step=markerstep, shape=:auto,\n",
    "    color=\"blue\",\n",
    ")\n",
    "\n",
    "savefig(\"$(savedir)/$(dataset)-MetricLP_Time-01234.png\")\n"
   ]
  },
  {
   "cell_type": "code",
   "execution_count": null,
   "id": "9576eaf4",
   "metadata": {
    "scrolled": false
   },
   "outputs": [],
   "source": [
    "# MetricLP vs Datapass\n",
    "\n",
    "loggingfreq = 5\n",
    "markerstep = 500\n",
    "\n",
    "plot(collect(0:length(results_2.metricLPs)-1) * loggingfreq, results_2.metricLPs, label=\"PDHG\",\n",
    "    st=:samplemarkers, step=markerstep, shape=:auto,  # Markers\n",
    "    yaxis=:log, color=\"black\", xlim=[0, 1e4],\n",
    "    xlabel=\"Number of data passes\", ylabel=\"LP Metric\", title=figuretitle,\n",
    "    ;plotconfig...\n",
    ")\n",
    "plot!(collect(0:length(results_3.metricLPs)-1) * loggingfreq, results_3.metricLPs, label=\"SPDHG (blocksize=50)\",\n",
    "    st=:samplemarkers, step=markerstep, shape=:auto,\n",
    "    color=\"green\",\n",
    ")\n",
    "plot!(collect(0:length(results_4.metricLPs)-1) * loggingfreq, results_4.metricLPs, label=\"PURE-CD (blocksize=1)\",\n",
    "    st=:samplemarkers, step=markerstep, shape=:auto,\n",
    "    color=\"orange\",\n",
    ")\n",
    "plot!(collect(0:length(results_0.metricLPs)-1) * loggingfreq, results_0.metricLPs, label=\"CLVR (blocksize=1)\",\n",
    "    st=:samplemarkers, step=markerstep, shape=:auto,\n",
    "    color=\"red\",\n",
    ")\n",
    "plot!(collect(0:length(results_1.metricLPs)-1) * loggingfreq, results_1.metricLPs, label=\"CLVR (blocksize=50)\",\n",
    "    st=:samplemarkers, step=markerstep, shape=:auto,\n",
    "    color=\"blue\",\n",
    ")\n",
    "\n",
    "savefig(\"$(savedir)/$(dataset)-MetricLP_Datapass-01234.png\")\n"
   ]
  },
  {
   "cell_type": "markdown",
   "id": "ae24a28a",
   "metadata": {},
   "source": [
    "-----"
   ]
  },
  {
   "cell_type": "code",
   "execution_count": null,
   "id": "dd6804c0",
   "metadata": {},
   "outputs": [],
   "source": []
  }
 ],
 "metadata": {
  "kernelspec": {
   "display_name": "Julia 1.4.1",
   "language": "julia",
   "name": "julia-1.4"
  },
  "language_info": {
   "file_extension": ".jl",
   "mimetype": "application/julia",
   "name": "julia",
   "version": "1.6.3"
  }
 },
 "nbformat": 4,
 "nbformat_minor": 5
}
